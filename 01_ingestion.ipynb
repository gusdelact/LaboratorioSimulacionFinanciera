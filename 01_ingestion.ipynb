{
  "nbformat": 4,
  "nbformat_minor": 0,
  "metadata": {
    "colab": {
      "provenance": [],
      "toc_visible": true
    },
    "kernelspec": {
      "name": "python3",
      "display_name": "Python 3"
    },
    "language_info": {
      "name": "python"
    }
  },
  "cells": [
    {
      "cell_type": "markdown",
      "source": [
        "#Ingestion de datos financieros"
      ],
      "metadata": {
        "id": "ZExO3ClCiR2N"
      }
    },
    {
      "cell_type": "markdown",
      "source": [
        "La ingestión de datos financieros en el contexto del análisis de mercados financieros se refiere al proceso de recopilar, importar, transformar y cargar datos financieros en un sistema de análisis o base de datos. Este proceso es fundamental para realizar un análisis eficaz y preciso del mercado financiero, ya que proporciona la base de datos sobre la cual se construyen los modelos y se realizan las evaluaciones."
      ],
      "metadata": {
        "id": "PUcVfwkxwUiK"
      }
    },
    {
      "cell_type": "markdown",
      "source": [
        "\n",
        "\n",
        "### Componentes de la Ingestión de Datos Financieros\n",
        "\n",
        "1. **Recopilación de Datos**:\n",
        "   - **Fuentes de Datos**: Los datos financieros pueden provenir de diversas fuentes, como proveedores de datos financieros (Bloomberg, Reuters), bolsas de valores, sitios web financieros (Yahoo Finance), bancos, y más.\n",
        "   - **Tipos de Datos**: Los datos recopilados pueden incluir precios de acciones, volúmenes de negociación, datos de índices, tasas de interés, datos macroeconómicos, noticias financieras, entre otros.\n",
        "\n",
        "2. **Importación de Datos**:\n",
        "   - **APIs y Conectores**: Las APIs (Application Programming Interfaces) y conectores específicos de proveedores de datos permiten importar datos directamente en el sistema de análisis. Herramientas como `yfinance` para Yahoo Finance son ejemplos de cómo se puede automatizar la importación de datos.\n",
        "   - **Archivos**: Los datos también pueden ser importados a través de archivos CSV, Excel, JSON, y otros formatos.\n",
        "\n",
        "3. **Transformación de Datos**:\n",
        "   - **Limpieza de Datos**: Eliminación de datos duplicados, manejo de valores nulos, y corrección de errores.\n",
        "   - **Normalización**: Ajuste de los datos para que sean consistentes y comparables, como convertir todas las fechas a un formato estándar.\n",
        "   - **Enriquecimiento**: Agregar información adicional o derivada, como calcular los retornos de las acciones a partir de los precios de cierre.\n",
        "\n",
        "4. **Carga de Datos**:\n",
        "   - **Bases de Datos**: Los datos transformados se cargan en bases de datos relacionales (SQL) o bases de datos NoSQL para su almacenamiento y consulta.\n",
        "   - **Data Lakes y Warehouses**: En entornos más complejos, los datos pueden ser almacenados en data lakes o data warehouses que permiten un análisis más avanzado y consultas a gran escala.\n",
        "\n",
        "### Importancia en el Análisis de Mercados Financieros\n",
        "\n",
        "- **Precisión y Actualización**: La ingestión de datos financieros garantiza que los datos utilizados para el análisis estén actualizados y sean precisos, lo cual es crucial para tomar decisiones informadas en el mercado financiero.\n",
        "- **Eficiencia**: Automatizar la ingestión de datos permite a los analistas y traders dedicar más tiempo al análisis y menos tiempo a la recolección y preparación de datos.\n",
        "- **Escalabilidad**: Con una adecuada infraestructura de ingestión de datos, es posible manejar grandes volúmenes de datos provenientes de múltiples fuentes, lo cual es esencial para el análisis cuantitativo y algoritmos de trading.\n",
        "- **Análisis Avanzado**: Datos financieros bien ingeridos y transformados son la base para análisis avanzados como modelado predictivo, análisis técnico, backtesting de estrategias de trading y evaluación de riesgos.\n",
        "\n",
        "\n",
        "La ingestión de datos financieros es un proceso crucial que permite a los analistas y traders acceder a datos precisos y actualizados, facilitando así el análisis del mercado financiero y la toma de decisiones informadas. Utilizando herramientas y tecnologías adecuadas, se puede automatizar y optimizar este proceso, permitiendo manejar grandes volúmenes de datos y realizar análisis avanzados de manera eficiente."
      ],
      "metadata": {
        "id": "xacQOLf6pRzG"
      }
    },
    {
      "cell_type": "markdown",
      "source": [
        "#Yahoo Finance\n",
        "\n",
        "Para este Laboratorio de simulación financiera, se utilizar [Yahoo Finance](https://finance.yahoo.com/) como fuente de datos.  \n",
        "\n",
        "Yahoo! Finance es una plataforma en línea que proporciona una amplia gama de información y servicios financieros. Es una de las fuentes más populares y accesibles para obtener datos financieros tanto para inversores individuales como profesionales. Aquí se detallan algunas de sus características y servicios clave:\n",
        "\n",
        "### Características y Servicios de Yahoo! Finance\n",
        "\n",
        "1. **Datos de Mercados Financieros**:\n",
        "   - **Acciones**: Precios de acciones, gráficos, volúmenes de negociación, y datos históricos.\n",
        "   - **Índices**: Información sobre índices bursátiles como el S&P 500, Dow Jones, y Nasdaq.\n",
        "   - **Bonos**: Datos sobre bonos del Tesoro y otros instrumentos de renta fija.\n",
        "   - **Divisas**: Tasas de cambio para una amplia variedad de monedas.\n",
        "\n",
        "2. **Noticias y Análisis**:\n",
        "   - Yahoo! Finance ofrece noticias actualizadas y análisis financieros de una variedad de fuentes, incluyendo artículos de expertos y comentarios del mercado.\n",
        "   - **Cobertura de Eventos**: Información sobre eventos económicos y financieros importantes, como reportes de ganancias y anuncios de política monetaria.\n",
        "\n",
        "3. **Información Corporativa**:\n",
        "   - **Perfiles de Empresa**: Información detallada sobre empresas, incluyendo descripciones, directivos, y análisis de su desempeño.\n",
        "   - **Estados Financieros**: Acceso a los balances, estados de resultados y flujos de caja de las empresas.\n",
        "\n",
        "4. **Herramientas de Inversión**:\n",
        "   - **Screeners**: Herramientas para filtrar acciones, ETFs, y otros instrumentos financieros basados en criterios específicos.\n",
        "   - **Portafolios**: Funcionalidad para que los usuarios creen y sigan sus propios portafolios de inversión.\n",
        "   - **Alertas**: Notificaciones sobre movimientos de precios, noticias relevantes, y cambios en el mercado.\n",
        "\n",
        "5. **Gráficos y Visualización**:\n",
        "   - Yahoo! Finance proporciona gráficos interactivos que permiten a los usuarios visualizar datos históricos de precios, comparar diferentes activos y realizar análisis técnico.\n",
        "\n",
        "6. **Datos Históricos y en Tiempo Real**:\n",
        "   - Ofrece acceso a datos históricos de precios que se pueden descargar para análisis detallados.\n",
        "   - Proporciona cotizaciones en tiempo real para muchos activos, lo cual es crucial para los traders y analistas que necesitan información actualizada.\n",
        "\n",
        "### Uso de Yahoo! Finance en el Análisis Financiero\n",
        "\n",
        "Yahoo! Finance es ampliamente utilizado por inversores individuales, analistas financieros, y educadores debido a su accesibilidad y la amplitud de datos que ofrece. Los datos obtenidos de Yahoo! Finance pueden ser utilizados para:\n",
        "\n",
        "- **Análisis Técnico**: Utilizando gráficos e indicadores para evaluar el comportamiento de precios y predecir futuros movimientos.\n",
        "- **Análisis Fundamental**: Evaluando el valor intrínseco de una empresa mediante el análisis de sus estados financieros y otros datos corporativos.\n",
        "- **Modelado Financiero**: Construcción de modelos financieros para proyecciones y valoraciones utilizando datos históricos y actuales.\n",
        "- **Seguimiento de Portafolio**: Monitoreo y gestión de inversiones mediante la creación de portafolios personalizados.\n",
        "\n",
        "### Ejemplo de Uso con Python\n",
        "\n",
        "A continuación se muestra un ejemplo de cómo usar la biblioteca `yfinance` para obtener datos de Yahoo! Finance en Python:\n",
        "\n",
        "```python\n",
        "\n",
        "```\n",
        "\n",
        "### Conclusión\n",
        "\n",
        "Yahoo! Finance es una herramienta poderosa y versátil para obtener información financiera y realizar análisis de mercado. Su accesibilidad y la amplitud de datos que proporciona la convierten en una fuente valiosa para inversores, analistas y educadores. Con herramientas como `yfinance`, los datos de Yahoo! Finance se pueden integrar fácilmente en aplicaciones y análisis personalizados, facilitando la toma de decisiones informadas en el ámbito financiero."
      ],
      "metadata": {
        "id": "0_F1RNocqAV9"
      }
    },
    {
      "cell_type": "markdown",
      "source": [
        "#Librería yfinance para ingestar datos"
      ],
      "metadata": {
        "id": "wLX_a7tzicox"
      }
    },
    {
      "cell_type": "markdown",
      "source": [
        "## Introducción a yfinance\n",
        "\n",
        "`yfinance` es una biblioteca de Python que permite a los usuarios descargar datos financieros de Yahoo Finance de una manera fácil y eficiente.  \n",
        "Yahoo Finance es uno de los recursos más utilizados para obtener datos financieros debido a su amplia cobertura de activos, datos históricos y actualizaciones en tiempo real. `yfinance` facilita el acceso a esta información, proporcionando una API intuitiva para descargar, manipular y analizar datos financieros.\n",
        "\n",
        "#### Características Principales de yfinance\n",
        "\n",
        "1. **Descarga de Datos Históricos**:\n",
        "   - `yfinance` permite obtener datos históricos de precios, incluyendo apertura, cierre, alto, bajo y volumen de negociación.\n",
        "   - Los datos pueden descargarse para varios periodos, desde un solo día hasta varios años.\n",
        "\n",
        "2. **Información de la Empresa**:\n",
        "   - Permite obtener información detallada sobre la empresa, como su nombre completo, sector, industria, capitalización de mercado, y mucho más.\n",
        "   \n",
        "3. **Estados Financieros**:\n",
        "   - `yfinance` facilita el acceso a los estados financieros de una empresa, incluyendo el balance general, el estado de resultados y el flujo de caja.\n",
        "   \n",
        "4. **Datos de Dividendos y Splits**:\n",
        "   - Permite analizar los dividendos pagados por la empresa y los splits de acciones realizados.\n",
        "   \n",
        "5. **Descarga de Datos de Múltiples Tickers**:\n",
        "   - Es posible descargar datos históricos de múltiples acciones al mismo tiempo, lo que es útil para la comparación y el análisis de carteras.\n",
        "   \n",
        "6. **Facilidad de Uso**:\n",
        "   - La biblioteca está diseñada para ser fácil de usar, incluso para aquellos que son nuevos en el análisis de datos financieros con Python.\n",
        "\n",
        "#### Ventajas de Usar yfinance\n",
        "\n",
        "- **Acceso Gratuito**: A diferencia de muchas otras fuentes de datos financieros, Yahoo Finance proporciona acceso gratuito a una gran cantidad de datos financieros.\n",
        "- **Amplia Cobertura**: Cubre una amplia gama de activos financieros, incluyendo acciones, bonos, divisas, commodities, y más.\n",
        "- **Actualizaciones en Tiempo Real**: Proporciona actualizaciones de precios en tiempo real y datos históricos detallados.\n",
        "- **Integración con Pandas**: `yfinance` está diseñado para integrarse perfectamente con `pandas`, una de las bibliotecas más utilizadas en Python para el análisis de datos.\n",
        "\n"
      ],
      "metadata": {
        "id": "8jqTJlTEigwQ"
      }
    },
    {
      "cell_type": "markdown",
      "source": [
        "## Instalación\n",
        "\n",
        "La instalación de `yfinance` es sencilla y puede hacerse mediante `pip`:\n",
        "\n",
        "```bash\n",
        "pip install yfinance\n",
        "```\n"
      ],
      "metadata": {
        "id": "oCYdcMSGkUBC"
      }
    },
    {
      "cell_type": "code",
      "source": [
        "\n",
        "!pip install yfinance"
      ],
      "metadata": {
        "colab": {
          "base_uri": "https://localhost:8080/"
        },
        "id": "k2lxekcKkp7w",
        "outputId": "c4cf9566-3e6f-4e3a-f3ff-e7920ef3ef30"
      },
      "execution_count": null,
      "outputs": [
        {
          "output_type": "stream",
          "name": "stdout",
          "text": [
            "Requirement already satisfied: yfinance in /usr/local/lib/python3.10/dist-packages (0.2.40)\n",
            "Requirement already satisfied: pandas>=1.3.0 in /usr/local/lib/python3.10/dist-packages (from yfinance) (2.0.3)\n",
            "Requirement already satisfied: numpy>=1.16.5 in /usr/local/lib/python3.10/dist-packages (from yfinance) (1.25.2)\n",
            "Requirement already satisfied: requests>=2.31 in /usr/local/lib/python3.10/dist-packages (from yfinance) (2.31.0)\n",
            "Requirement already satisfied: multitasking>=0.0.7 in /usr/local/lib/python3.10/dist-packages (from yfinance) (0.0.11)\n",
            "Requirement already satisfied: lxml>=4.9.1 in /usr/local/lib/python3.10/dist-packages (from yfinance) (4.9.4)\n",
            "Requirement already satisfied: platformdirs>=2.0.0 in /usr/local/lib/python3.10/dist-packages (from yfinance) (4.2.2)\n",
            "Requirement already satisfied: pytz>=2022.5 in /usr/local/lib/python3.10/dist-packages (from yfinance) (2023.4)\n",
            "Requirement already satisfied: frozendict>=2.3.4 in /usr/local/lib/python3.10/dist-packages (from yfinance) (2.4.4)\n",
            "Requirement already satisfied: peewee>=3.16.2 in /usr/local/lib/python3.10/dist-packages (from yfinance) (3.17.5)\n",
            "Requirement already satisfied: beautifulsoup4>=4.11.1 in /usr/local/lib/python3.10/dist-packages (from yfinance) (4.12.3)\n",
            "Requirement already satisfied: html5lib>=1.1 in /usr/local/lib/python3.10/dist-packages (from yfinance) (1.1)\n",
            "Requirement already satisfied: soupsieve>1.2 in /usr/local/lib/python3.10/dist-packages (from beautifulsoup4>=4.11.1->yfinance) (2.5)\n",
            "Requirement already satisfied: six>=1.9 in /usr/local/lib/python3.10/dist-packages (from html5lib>=1.1->yfinance) (1.16.0)\n",
            "Requirement already satisfied: webencodings in /usr/local/lib/python3.10/dist-packages (from html5lib>=1.1->yfinance) (0.5.1)\n",
            "Requirement already satisfied: python-dateutil>=2.8.2 in /usr/local/lib/python3.10/dist-packages (from pandas>=1.3.0->yfinance) (2.8.2)\n",
            "Requirement already satisfied: tzdata>=2022.1 in /usr/local/lib/python3.10/dist-packages (from pandas>=1.3.0->yfinance) (2024.1)\n",
            "Requirement already satisfied: charset-normalizer<4,>=2 in /usr/local/lib/python3.10/dist-packages (from requests>=2.31->yfinance) (3.3.2)\n",
            "Requirement already satisfied: idna<4,>=2.5 in /usr/local/lib/python3.10/dist-packages (from requests>=2.31->yfinance) (3.7)\n",
            "Requirement already satisfied: urllib3<3,>=1.21.1 in /usr/local/lib/python3.10/dist-packages (from requests>=2.31->yfinance) (2.0.7)\n",
            "Requirement already satisfied: certifi>=2017.4.17 in /usr/local/lib/python3.10/dist-packages (from requests>=2.31->yfinance) (2024.6.2)\n"
          ]
        }
      ]
    },
    {
      "cell_type": "markdown",
      "source": [
        "### Ejemplo de Código para Ingestión de Datos Financieros\n",
        "\n",
        "A continuación se muestra un ejemplo de cómo se puede realizar la ingestión de datos financieros utilizando `yfinance` para descargar datos históricos de acciones y luego cargarlos en un DataFrame de `pandas`:"
      ],
      "metadata": {
        "id": "03WlqYlvpkoZ"
      }
    },
    {
      "cell_type": "code",
      "source": [
        "import yfinance as yf\n",
        "import pandas as pd\n",
        "\n",
        "# Definir el ticker de la acción\n",
        "ticker = \"AAPL\"\n",
        "\n",
        "# Descargar datos históricos\n",
        "data = yf.download(ticker, start=\"2020-01-02\", end=\"2023-01-01\")\n",
        "\n",
        "# Limpiar y transformar los datos\n",
        "data = data.dropna()  # Eliminar filas con valores nulos\n",
        "data['Return'] = data['Adj Close'].pct_change()  # Calcular los retornos diarios\n",
        "\n",
        "# Mostrar los primeros registros del DataFrame transformado\n",
        "print(data.head())\n",
        "\n",
        "# Guardar los datos transformados en un archivo CSV\n",
        "data.to_csv(\"aapl_data.csv\")"
      ],
      "metadata": {
        "colab": {
          "base_uri": "https://localhost:8080/"
        },
        "id": "gRaozKmqrSZ0",
        "outputId": "1d17915d-0303-44b5-86fa-3105e43eb9c4"
      },
      "execution_count": null,
      "outputs": [
        {
          "output_type": "stream",
          "name": "stderr",
          "text": [
            "\r[*********************100%%**********************]  1 of 1 completed"
          ]
        },
        {
          "output_type": "stream",
          "name": "stdout",
          "text": [
            "                 Open       High        Low      Close  Adj Close     Volume  \\\n",
            "Date                                                                           \n",
            "2020-01-02  74.059998  75.150002  73.797501  75.087502  73.059441  135480400   \n",
            "2020-01-03  74.287498  75.144997  74.125000  74.357498  72.349144  146322800   \n",
            "2020-01-06  73.447502  74.989998  73.187500  74.949997  72.925621  118387200   \n",
            "2020-01-07  74.959999  75.224998  74.370003  74.597504  72.582664  108872000   \n",
            "2020-01-08  74.290001  76.110001  74.290001  75.797501  73.750252  132079200   \n",
            "\n",
            "              Return  \n",
            "Date                  \n",
            "2020-01-02       NaN  \n",
            "2020-01-03 -0.009722  \n",
            "2020-01-06  0.007968  \n",
            "2020-01-07 -0.004703  \n",
            "2020-01-08  0.016086  \n"
          ]
        },
        {
          "output_type": "stream",
          "name": "stderr",
          "text": [
            "\n"
          ]
        }
      ]
    },
    {
      "cell_type": "markdown",
      "source": [
        "Este código en Python utiliza las bibliotecas `yfinance`, `pandas` y `plotly` para descargar datos históricos de precios de las acciones de Apple (AAPL) y visualizarlos en un gráfico interactivo. A continuación se explica cada sección del código:\n",
        "\n",
        "### Importación de Bibliotecas\n",
        "\n",
        "```python\n",
        "import yfinance as yf\n",
        "import pandas as pd\n",
        "```\n",
        "\n",
        "- **`yfinance`**: Es una biblioteca que facilita la descarga de datos financieros desde Yahoo Finance.\n",
        "- **`pandas`**: Es una biblioteca para la manipulación y análisis de datos.\n",
        "\n",
        "### Definición del Ticker de la Acción\n",
        "\n",
        "```python\n",
        "# Definir el ticker de la acción\n",
        "ticker = \"AAPL\"\n",
        "```\n",
        "\n",
        "- Se define el ticker de la acción de Apple, que es \"AAPL\". Un ticker es un símbolo único utilizado para identificar una acción específica en la bolsa de valores.\n",
        "\n",
        "### Descarga de Datos Históricos\n",
        "\n",
        "```python\n",
        "# Descargar datos históricos\n",
        "data = yf.download(ticker, start=\"2020-01-01\", end=\"2023-01-01\")\n",
        "```\n",
        "\n",
        "- **`yf.download`**: Esta función de `yfinance` descarga los datos históricos de precios de la acción especificada.\n",
        "- **`ticker`**: El símbolo de la acción que queremos analizar (AAPL en este caso).\n",
        "- **`start`**: La fecha de inicio para los datos históricos (1 de enero de 2020).\n",
        "- **`end`**: La fecha de finalización para los datos históricos (1 de enero de 2023).\n",
        "\n",
        "### Mostrar los Primeros Registros\n",
        "\n",
        "```python\n",
        "# Mostrar los primeros registros\n",
        "print(data.head())\n",
        "```\n",
        "\n",
        "- **`data.head()`**: Muestra los primeros cinco registros del DataFrame `data`, proporcionando una vista rápida de la estructura de los datos descargados.\n",
        "\n",
        "### Graficar el Precio de Cierre Ajustado con Plotly\n",
        "\n",
        "```python\n",
        "import plotly.graph_objects as go\n",
        "```\n",
        "\n",
        "- **`plotly.graph_objects`**: Se importa `plotly.graph_objects` para crear gráficos interactivos.\n",
        "\n",
        "### Creación del Gráfico\n",
        "\n",
        "```python\n",
        "fig = go.Figure()\n",
        "fig.add_trace(go.Scatter(x=data.index, y=data['Adj Close'], mode='lines', name='Precio de Cierre Ajustado'))\n",
        "```\n",
        "\n",
        "- **`go.Figure()`**: Crea una nueva figura de plotly.\n",
        "- **`fig.add_trace`**: Agrega una traza al gráfico. En este caso, es una línea que representa el precio de cierre ajustado de las acciones de Apple.\n",
        "  - **`x=data.index`**: El eje x está basado en el índice del DataFrame, que son las fechas.\n",
        "  - **`y=data['Adj Close']`**: El eje y está basado en la columna 'Adj Close' del DataFrame, que representa el precio de cierre ajustado.\n",
        "  - **`mode='lines'`**: Especifica que la traza debe ser una línea.\n",
        "  - **`name='Precio de Cierre Ajustado'`**: El nombre de la traza que aparecerá en la leyenda del gráfico.\n",
        "\n",
        "### Personalización y Mostrado del Gráfico\n",
        "\n",
        "```python\n",
        "fig.update_layout(\n",
        "    title='Precio de Cierre Ajustado de Apple (AAPL)',\n",
        "    xaxis_title='Fecha',\n",
        "    yaxis_title='Precio ($)',\n",
        "    template='plotly_white'\n",
        ")\n",
        "fig.show()\n",
        "```\n",
        "\n",
        "- **`fig.update_layout`**: Personaliza el diseño del gráfico.\n",
        "  - **`title`**: Establece el título del gráfico.\n",
        "  - **`xaxis_title`**: Título del eje x (Fecha).\n",
        "  - **`yaxis_title`**: Título del eje y (Precio en dólares).\n",
        "  - **`template='plotly_white'`**: Aplica el tema 'plotly_white' al gráfico para un fondo blanco limpio.\n",
        "- **`fig.show()`**: Muestra el gráfico interactivo en la salida del notebook o en una ventana del navegador.\n",
        "\n",
        "\n",
        "En resumen, este código descarga datos históricos del precio de las acciones de Apple desde Yahoo Finance, los almacena en un DataFrame de `pandas`, y luego utiliza `plotly` para crear y mostrar un gráfico interactivo del precio de cierre ajustado a lo largo del tiempo. Es una manera eficaz de visualizar datos financieros de manera interactiva y atractiva."
      ],
      "metadata": {
        "id": "BdV1zbRKtJPR"
      }
    },
    {
      "cell_type": "markdown",
      "source": [
        "## Ejemplo Básico con visualización con matplotlib\n",
        "\n",
        "A continuación, se muestra un ejemplo básico de cómo usar `yfinance` para descargar datos históricos de una acción y visualizarlos con matplotlib\n"
      ],
      "metadata": {
        "id": "H-BvZEkflDyn"
      }
    },
    {
      "cell_type": "code",
      "source": [
        "import yfinance as yf\n",
        "import matplotlib.pyplot as plt\n",
        "\n",
        "# Definir el ticker de la acción\n",
        "ticker = \"AMZN\"\n",
        "\n",
        "# Descargar datos históricos\n",
        "data = yf.download(ticker, start=\"2010-01-01\", end=\"2024-06-01\")\n",
        "\n",
        "# Mostrar los primeros registros\n",
        "print(data.head())\n",
        "\n",
        "# Graficar el precio de cierre ajustado\n",
        "plt.figure(figsize=(10, 6))\n",
        "plt.plot(data['Adj Close'], label=\"Precio de Cierre Ajustado\")\n",
        "plt.title(\"Precio de Cierre Ajustado de Amazon (AMZN)\")\n",
        "plt.xlabel(\"Fecha\")\n",
        "plt.ylabel(\"Precio ($)\")\n",
        "plt.legend()\n",
        "plt.grid(True)\n",
        "plt.show()"
      ],
      "metadata": {
        "colab": {
          "base_uri": "https://localhost:8080/",
          "height": 607
        },
        "id": "zdOZ9Hcokx_V",
        "outputId": "b58d4807-cacc-4d85-9f1d-6fb677a7bb06"
      },
      "execution_count": null,
      "outputs": [
        {
          "output_type": "stream",
          "name": "stderr",
          "text": [
            "\r[*********************100%%**********************]  1 of 1 completed\n"
          ]
        },
        {
          "output_type": "stream",
          "name": "stdout",
          "text": [
            "              Open    High     Low   Close  Adj Close     Volume\n",
            "Date                                                            \n",
            "2010-01-04  6.8125  6.8305  6.6570  6.6950     6.6950  151998000\n",
            "2010-01-05  6.6715  6.7740  6.5905  6.7345     6.7345  177038000\n",
            "2010-01-06  6.7300  6.7365  6.5825  6.6125     6.6125  143576000\n",
            "2010-01-07  6.6005  6.6160  6.4400  6.5000     6.5000  220604000\n",
            "2010-01-08  6.5280  6.6840  6.4515  6.6760     6.6760  196610000\n"
          ]
        },
        {
          "output_type": "display_data",
          "data": {
            "text/plain": [
              "<Figure size 1000x600 with 1 Axes>"
            ],
            "image/png": "[encoded data removed]"
          },
          "metadata": {}
        }
      ]
    },
    {
      "cell_type": "markdown",
      "source": [
        "En este ejemplo:\n",
        "- Se define el ticker de Amazon (`AMZN`).\n",
        "- Se descargan los datos históricos desde el 1 de enero de 2020 hasta el 1 de enero de 2023.\n",
        "- Se muestran los primeros registros de los datos descargados.\n",
        "- Se grafica el precio de cierre ajustado utilizando `matplotlib`."
      ],
      "metadata": {
        "id": "3MrGL-EOk2TU"
      }
    },
    {
      "cell_type": "markdown",
      "source": [
        "Este código en Python utiliza las bibliotecas `yfinance` y `matplotlib` para descargar datos históricos de precios de las acciones de Amazon (AMZN) y visualizarlos en un gráfico. A continuación se explica cada sección del código:\n",
        "\n",
        "**Importación de Bibliotecas**\n",
        "\n",
        "\n",
        "\n",
        "```python\n",
        "import yfinance as yf\n",
        "import matplotlib.pyplot as plt\n",
        "```\n",
        "\n",
        "- **`yfinance`**: Es una biblioteca que facilita la descarga de datos financieros desde Yahoo Finance.\n",
        "- **`matplotlib.pyplot`**: Es una biblioteca para crear gráficos estáticos en Python.\n",
        "\n",
        "**Definición del Ticker de la Acción**\n",
        "\n",
        "```python\n",
        "# Definir el ticker de la acción\n",
        "ticker = \"AMZN\"\n",
        "```\n",
        "\n",
        "- Se define el ticker de la acción de Amazon, que es \"AMZN\". Un ticker es un símbolo único utilizado para identificar una acción específica en la bolsa de valores.\n",
        "\n",
        "**Descarga de Datos Históricos**\n",
        "\n",
        "```python\n",
        "# Descargar datos históricos\n",
        "data = yf.download(ticker, start=\"2020-01-01\", end=\"2023-01-01\")\n",
        "```\n",
        "\n",
        "- **`yf.download`**: Esta función de `yfinance` descarga los datos históricos de precios de la acción especificada.\n",
        "- **`ticker`**: El símbolo de la acción que queremos analizar (AMZN en este caso).\n",
        "- **`start`**: La fecha de inicio para los datos históricos (1 de enero de 2020).\n",
        "- **`end`**: La fecha de finalización para los datos históricos (1 de enero de 2023).\n",
        "\n",
        "**Mostrar los Primeros Registros**\n",
        "\n",
        "```python\n",
        "# Mostrar los primeros registros\n",
        "print(data.head())\n",
        "```\n",
        "\n",
        "- **`data.head()`**: Muestra los primeros cinco registros del DataFrame `data`, proporcionando una vista rápida de la estructura de los datos descargados.\n",
        "\n",
        "**Graficar el Precio de Cierre Ajustado**\n",
        "\n",
        "```python\n",
        "# Graficar el precio de cierre ajustado\n",
        "plt.figure(figsize=(10, 6))\n",
        "plt.plot(data['Adj Close'], label=\"Precio de Cierre Ajustado\")\n",
        "plt.title(\"Precio de Cierre Ajustado de Amazon (AMZN)\")\n",
        "plt.xlabel(\"Fecha\")\n",
        "plt.ylabel(\"Precio ($)\")\n",
        "plt.legend()\n",
        "plt.grid(True)\n",
        "plt.show()\n",
        "```\n",
        "\n",
        "- **`plt.figure(figsize=(10, 6))`**: Crea una nueva figura con un tamaño de 10 por 6 pulgadas.\n",
        "- **`plt.plot(data['Adj Close'], label=\"Precio de Cierre Ajustado\")`**: Grafica la columna 'Adj Close' del DataFrame `data`. Esta columna representa el precio de cierre ajustado de las acciones de Amazon.\n",
        "  - **`data['Adj Close']`**: Eje y basado en los precios de cierre ajustados.\n",
        "  - **`label=\"Precio de Cierre Ajustado\"`**: Etiqueta de la línea en la leyenda del gráfico.\n",
        "- **`plt.title(\"Precio de Cierre Ajustado de Amazon (AMZN)\")`**: Establece el título del gráfico.\n",
        "- **`plt.xlabel(\"Fecha\")`**: Establece la etiqueta del eje x como \"Fecha\".\n",
        "- **`plt.ylabel(\"Precio ($)\")`**: Establece la etiqueta del eje y como \"Precio ($)\".\n",
        "- **`plt.legend()`**: Muestra la leyenda en el gráfico.\n",
        "- **`plt.grid(True)`**: Añade una cuadrícula al gráfico para facilitar la lectura de los datos.\n",
        "- **`plt.show()`**: Muestra el gráfico en la salida del notebook o en una ventana del navegador.\n",
        "\n",
        "\n",
        "En resumen, este código descarga datos históricos del precio de las acciones de Amazon desde Yahoo Finance, los almacena en un DataFrame de `pandas`, y luego utiliza `matplotlib` para crear y mostrar un gráfico del precio de cierre ajustado a lo largo del tiempo. Es una manera eficaz de visualizar datos financieros de manera estática y obtener una visión rápida del comportamiento histórico del precio de las acciones de Amazon."
      ],
      "metadata": {
        "id": "4prO5seEtu15"
      }
    },
    {
      "cell_type": "markdown",
      "source": [
        "## Ejemplo  con visualización con plotly\n"
      ],
      "metadata": {
        "id": "LSVnkfR0mon-"
      }
    },
    {
      "cell_type": "markdown",
      "source": [
        "**Plotly** es una biblioteca de gráficos interactivos de código abierto para Python (y otros lenguajes de programación) que permite crear visualizaciones de datos de alta calidad de manera sencilla y flexible.   \n",
        "Se destaca por su capacidad para generar gráficos interactivos que pueden ser integrados en aplicaciones web y Jupyter Notebooks.   \n",
        "Plotly soporta una amplia variedad de gráficos, incluyendo líneas, barras, áreas, dispersión, mapas, gráficos 3D, entre otros. Además, su integración con bibliotecas de análisis de datos como Pandas y su compatibilidad con el ecosistema de Python lo convierten en una herramienta poderosa para científicos de datos, analistas y desarrolladores que buscan visualizar datos de manera intuitiva y atractiva.   \n",
        "La capacidad de crear gráficos interactivos y personalizados hace que Plotly sea especialmente útil para presentaciones, dashboards y aplicaciones de datos dinámicos."
      ],
      "metadata": {
        "id": "Isg7iLinm2zH"
      }
    },
    {
      "cell_type": "markdown",
      "source": [
        "Para utilizar `plotly` en lugar de `matplotlib` para graficar el precio de cierre ajustado, primero debes asegurarte de tener la librería `plotly` instalada. Puedes instalarla usando `pip`:\n",
        "\n",
        "\n",
        "```bash\n",
        "pip install plotly\n",
        "```"
      ],
      "metadata": {
        "id": "qwxkxHFQnJv6"
      }
    },
    {
      "cell_type": "code",
      "source": [
        "!pip install plotly"
      ],
      "metadata": {
        "colab": {
          "base_uri": "https://localhost:8080/"
        },
        "id": "K0K477tUnA8J",
        "outputId": "a75bf50a-12a0-4aad-9793-adf64af3989c"
      },
      "execution_count": null,
      "outputs": [
        {
          "output_type": "stream",
          "name": "stdout",
          "text": [
            "Requirement already satisfied: plotly in /usr/local/lib/python3.10/dist-packages (5.15.0)\n",
            "Requirement already satisfied: tenacity>=6.2.0 in /usr/local/lib/python3.10/dist-packages (from plotly) (8.4.1)\n",
            "Requirement already satisfied: packaging in /usr/local/lib/python3.10/dist-packages (from plotly) (24.1)\n"
          ]
        }
      ]
    },
    {
      "cell_type": "markdown",
      "source": [
        "\n",
        "\n",
        "A continuación, se muestra el código actualizado que usa `plotly` para graficar los datos históricos de Amazon (AMZN):\n",
        "\n",
        "\n",
        "\n"
      ],
      "metadata": {
        "id": "x8KNlqNsmfNH"
      }
    },
    {
      "cell_type": "code",
      "source": [
        "import yfinance as yf\n",
        "import plotly.graph_objects as go\n",
        "\n",
        "# Definir el ticker de la acción\n",
        "ticker = \"AMZN\"\n",
        "\n",
        "# Descargar datos históricos\n",
        "data = yf.download(ticker, start=\"2020-01-01\", end=\"2023-01-01\")\n",
        "\n",
        "# Mostrar los primeros registros\n",
        "print(data.head())\n",
        "\n",
        "# Graficar el precio de cierre ajustado con plotly\n",
        "fig = go.Figure()\n",
        "\n",
        "fig.add_trace(go.Scatter(x=data.index, y=data['Adj Close'], mode='lines', name='Precio de Cierre Ajustado'))\n",
        "\n",
        "fig.update_layout(\n",
        "    title='Precio de Cierre Ajustado de Amazon (AMZN)',\n",
        "    xaxis_title='Fecha',\n",
        "    yaxis_title='Precio ($)',\n",
        "    legend_title='Ticker',\n",
        "    template='plotly_white'\n",
        ")\n",
        "\n",
        "fig.show()"
      ],
      "metadata": {
        "colab": {
          "base_uri": "https://localhost:8080/",
          "height": 701
        },
        "id": "NYMg0MjlnWgK",
        "outputId": "9bd73e6d-eb55-4839-e22d-04a497164db4"
      },
      "execution_count": null,
      "outputs": [
        {
          "output_type": "stream",
          "name": "stderr",
          "text": [
            "\r[*********************100%%**********************]  1 of 1 completed"
          ]
        },
        {
          "output_type": "stream",
          "name": "stdout",
          "text": [
            "                 Open       High        Low      Close  Adj Close    Volume\n",
            "Date                                                                       \n",
            "2020-01-02  93.750000  94.900497  93.207497  94.900497  94.900497  80580000\n",
            "2020-01-03  93.224998  94.309998  93.224998  93.748497  93.748497  75288000\n",
            "2020-01-06  93.000000  95.184502  93.000000  95.143997  95.143997  81236000\n",
            "2020-01-07  95.224998  95.694504  94.601997  95.343002  95.343002  80898000\n",
            "2020-01-08  94.902000  95.550003  94.321999  94.598503  94.598503  70160000\n"
          ]
        },
        {
          "output_type": "stream",
          "name": "stderr",
          "text": [
            "\n"
          ]
        },
        {
          "output_type": "display_data",
          "data": {
            "text/html": [
              "<html>\n",
              "<head><meta charset=\"utf-8\" /></head>\n",
              "<body>\n",
              "    <div>            <script src=\"https://cdnjs.cloudflare.com/ajax/libs/mathjax/2.7.5/MathJax.js?config=TeX-AMS-MML_SVG\"></script><script type=\"text/javascript\">if (window.MathJax && window.MathJax.Hub && window.MathJax.Hub.Config) {window.MathJax.Hub.Config({SVG: {font: \"STIX-Web\"}});}</script>                <script type=\"text/javascript\">window.PlotlyConfig = {MathJaxConfig: 'local'};</script>\n",
              "        <script charset=\"utf-8\" src=\"https://cdn.plot.ly/plotly-2.24.1.min.js\"></script>                <div id=\"67928fa1-3ef4-47bd-922b-c5b76fdb68e4\" class=\"plotly-graph-div\" style=\"height:525px; width:100%;\"></div>            <script type=\"text/javascript\">                                    window.PLOTLYENV=window.PLOTLYENV || {};                                    if (document.getElementById(\"67928fa1-3ef4-47bd-922b-c5b76fdb68e4\")) {                    Plotly.newPlot(                        \"67928fa1-3ef4-47bd-922b-c5b76fdb68e4\",                        [{\"mode\":\"lines\",\"name\":\"Precio de Cierre Ajustado\",\"x\":[\"2020-01-02T00:00:00\",\"2020-01-03T00:00:00\",\"2020-01-06T00:00:00\",\"2020-01-07T00:00:00\",\"2020-01-08T00:00:00\",\"2020-01-09T00:00:00\",\"2020-01-10T00:00:00\",\"2020-01-13T00:00:00\",\"2020-01-14T00:00:00\",\"2020-01-15T00:00:00\",\"2020-01-16T00:00:00\",\"2020-01-17T00:00:00\",\"2020-01-21T00:00:00\",\"2020-01-22T00:00:00\",\"2020-01-23T00:00:00\",\"2020-01-24T00:00:00\",\"2020-01-27T00:00:00\",\"2020-01-28T00:00:00\",\"2020-01-29T00:00:00\",\"2020-01-30T00:00:00\",\"2020-01-31T00:00:00\",\"2020-02-03T00:00:00\",\"2020-02-04T00:00:00\",\"2020-02-05T00:00:00\",\"2020-02-06T00:00:00\",\"2020-02-07T00:00:00\",\"2020-02-10T00:00:00\",\"2020-02-11T00:00:00\",\"2020-02-12T00:00:00\",\"2020-02-13T00:00:00\",\"2020-02-14T00:00:00\",\"2020-02-18T00:00:00\",\"2020-02-19T00:00:00\",\"2020-02-20T00:00:00\",\"2020-02-21T00:00:00\",\"2020-02-24T00:00:00\",\"2020-02-25T00:00:00\",\"2020-02-26T00:00:00\",\"2020-02-27T00:00:00\",\"2020-02-28T00:00:00\",\"2020-03-02T00:00:00\",\"2020-03-03T00:00:00\",\"2020-03-04T00:00:00\",\"2020-03-05T00:00:00\",\"2020-03-06T00:00:00\",\"2020-03-09T00:00:00\",\"2020-03-10T00:00:00\",\"2020-03-11T00:00:00\",\"2020-03-12T00:00:00\",\"2020-03-13T00:00:00\",\"2020-03-16T00:00:00\",\"2020-03-17T00:00:00\",\"2020-03-18T00:00:00\",\"2020-03-19T00:00:00\",\"2020-03-20T00:00:00\",\"2020-03-23T00:00:00\",\"2020-03-24T00:00:00\",\"2020-03-25T00:00:00\",\"2020-03-26T00:00:00\",\"2020-03-27T00:00:00\",\"2020-03-30T00:00:00\",\"2020-03-31T00:00:00\",\"2020-04-01T00:00:00\",\"2020-04-02T00:00:00\",\"2020-04-03T00:00:00\",\"2020-04-06T00:00:00\",\"2020-04-07T00:00:00\",\"2020-04-08T00:00:00\",\"2020-04-09T00:00:00\",\"2020-04-13T00:00:00\",\"2020-04-14T00:00:00\",\"2020-04-15T00:00:00\",\"2020-04-16T00:00:00\",\"2020-04-17T00:00:00\",\"2020-04-20T00:00:00\",\"2020-04-21T00:00:00\",\"2020-04-22T00:00:00\",\"2020-04-23T00:00:00\",\"2020-04-24T00:00:00\",\"2020-04-27T00:00:00\",\"2020-04-28T00:00:00\",\"2020-04-29T00:00:00\",\"2020-04-30T00:00:00\",\"2020-05-01T00:00:00\",\"2020-05-04T00:00:00\",\"2020-05-05T00:00:00\",\"2020-05-06T00:00:00\",\"2020-05-07T00:00:00\",\"2020-05-08T00:00:00\",\"2020-05-11T00:00:00\",\"2020-05-12T00:00:00\",\"2020-05-13T00:00:00\",\"2020-05-14T00:00:00\",\"2020-05-15T00:00:00\",\"2020-05-18T00:00:00\",\"2020-05-19T00:00:00\",\"2020-05-20T00:00:00\",\"2020-05-21T00:00:00\",\"2020-05-22T00:00:00\",\"2020-05-26T00:00:00\",\"2020-05-27T00:00:00\",\"2020-05-28T00:00:00\",\"2020-05-29T00:00:00\",\"2020-06-01T00:00:00\",\"2020-06-02T00:00:00\",\"2020-06-03T00:00:00\",\"2020-06-04T00:00:00\",\"2020-06-05T00:00:00\",\"2020-06-08T00:00:00\",\"2020-06-09T00:00:00\",\"2020-06-10T00:00:00\",\"2020-06-11T00:00:00\",\"2020-06-12T00:00:00\",\"2020-06-15T00:00:00\",\"2020-06-16T00:00:00\",\"2020-06-17T00:00:00\",\"2020-06-18T00:00:00\",\"2020-06-19T00:00:00\",\"2020-06-22T00:00:00\",\"2020-06-23T00:00:00\",\"2020-06-24T00:00:00\",\"2020-06-25T00:00:00\",\"2020-06-26T00:00:00\",\"2020-06-29T00:00:00\",\"2020-06-30T00:00:00\",\"2020-07-01T00:00:00\",\"2020-07-02T00:00:00\",\"2020-07-06T00:00:00\",\"2020-07-07T00:00:00\",\"2020-07-08T00:00:00\",\"2020-07-09T00:00:00\",\"2020-07-10T00:00:00\",\"2020-07-13T00:00:00\",\"2020-07-14T00:00:00\",\"2020-07-15T00:00:00\",\"2020-07-16T00:00:00\",\"2020-07-17T00:00:00\",\"2020-07-20T00:00:00\",\"2020-07-21T00:00:00\",\"2020-07-22T00:00:00\",\"2020-07-23T00:00:00\",\"2020-07-24T00:00:00\",\"2020-07-27T00:00:00\",\"2020-07-28T00:00:00\",\"2020-07-29T00:00:00\",\"2020-07-30T00:00:00\",\"2020-07-31T00:00:00\",\"2020-08-03T00:00:00\",\"2020-08-04T00:00:00\",\"2020-08-05T00:00:00\",\"2020-08-06T00:00:00\",\"2020-08-07T00:00:00\",\"2020-08-10T00:00:00\",\"2020-08-11T00:00:00\",\"2020-08-12T00:00:00\",\"2020-08-13T00:00:00\",\"2020-08-14T00:00:00\",\"2020-08-17T00:00:00\",\"2020-08-18T00:00:00\",\"2020-08-19T00:00:00\",\"2020-08-20T00:00:00\",\"2020-08-21T00:00:00\",\"2020-08-24T00:00:00\",\"2020-08-25T00:00:00\",\"2020-08-26T00:00:00\",\"2020-08-27T00:00:00\",\"2020-08-28T00:00:00\",\"2020-08-31T00:00:00\",\"2020-09-01T00:00:00\",\"2020-09-02T00:00:00\",\"2020-09-03T00:00:00\",\"2020-09-04T00:00:00\",\"2020-09-08T00:00:00\",\"2020-09-09T00:00:00\",\"2020-09-10T00:00:00\",\"2020-09-11T00:00:00\",\"2020-09-14T00:00:00\",\"2020-09-15T00:00:00\",\"2020-09-16T00:00:00\",\"2020-09-17T00:00:00\",\"2020-09-18T00:00:00\",\"2020-09-21T00:00:00\",\"2020-09-22T00:00:00\",\"2020-09-23T00:00:00\",\"2020-09-24T00:00:00\",\"2020-09-25T00:00:00\",\"2020-09-28T00:00:00\",\"2020-09-29T00:00:00\",\"2020-09-30T00:00:00\",\"2020-10-01T00:00:00\",\"2020-10-02T00:00:00\",\"2020-10-05T00:00:00\",\"2020-10-06T00:00:00\",\"2020-10-07T00:00:00\",\"2020-10-08T00:00:00\",\"2020-10-09T00:00:00\",\"2020-10-12T00:00:00\",\"2020-10-13T00:00:00\",\"2020-10-14T00:00:00\",\"2020-10-15T00:00:00\",\"2020-10-16T00:00:00\",\"2020-10-19T00:00:00\",\"2020-10-20T00:00:00\",\"2020-10-21T00:00:00\",\"2020-10-22T00:00:00\",\"2020-10-23T00:00:00\",\"2020-10-26T00:00:00\",\"2020-10-27T00:00:00\",\"2020-10-28T00:00:00\",\"2020-10-29T00:00:00\",\"2020-10-30T00:00:00\",\"2020-11-02T00:00:00\",\"2020-11-03T00:00:00\",\"2020-11-04T00:00:00\",\"2020-11-05T00:00:00\",\"2020-11-06T00:00:00\",\"2020-11-09T00:00:00\",\"2020-11-10T00:00:00\",\"2020-11-11T00:00:00\",\"2020-11-12T00:00:00\",\"2020-11-13T00:00:00\",\"2020-11-16T00:00:00\",\"2020-11-17T00:00:00\",\"2020-11-18T00:00:00\",\"2020-11-19T00:00:00\",\"2020-11-20T00:00:00\",\"2020-11-23T00:00:00\",\"2020-11-24T00:00:00\",\"2020-11-25T00:00:00\",\"2020-11-27T00:00:00\",\"2020-11-30T00:00:00\",\"2020-12-01T00:00:00\",\"2020-12-02T00:00:00\",\"2020-12-03T00:00:00\",\"2020-12-04T00:00:00\",\"2020-12-07T00:00:00\",\"2020-12-08T00:00:00\",\"2020-12-09T00:00:00\",\"2020-12-10T00:00:00\",\"2020-12-11T00:00:00\",\"2020-12-14T00:00:00\",\"2020-12-15T00:00:00\",\"2020-12-16T00:00:00\",\"2020-12-17T00:00:00\",\"2020-12-18T00:00:00\",\"2020-12-21T00:00:00\",\"2020-12-22T00:00:00\",\"2020-12-23T00:00:00\",\"2020-12-24T00:00:00\",\"2020-12-28T00:00:00\",\"2020-12-29T00:00:00\",\"2020-12-30T00:00:00\",\"2020-12-31T00:00:00\",\"2021-01-04T00:00:00\",\"2021-01-05T00:00:00\",\"2021-01-06T00:00:00\",\"2021-01-07T00:00:00\",\"2021-01-08T00:00:00\",\"2021-01-11T00:00:00\",\"2021-01-12T00:00:00\",\"2021-01-13T00:00:00\",\"2021-01-14T00:00:00\",\"2021-01-15T00:00:00\",\"2021-01-19T00:00:00\",\"2021-01-20T00:00:00\",\"2021-01-21T00:00:00\",\"2021-01-22T00:00:00\",\"2021-01-25T00:00:00\",\"2021-01-26T00:00:00\",\"2021-01-27T00:00:00\",\"2021-01-28T00:00:00\",\"2021-01-29T00:00:00\",\"2021-02-01T00:00:00\",\"2021-02-02T00:00:00\",\"2021-02-03T00:00:00\",\"2021-02-04T00:00:00\",\"2021-02-05T00:00:00\",\"2021-02-08T00:00:00\",\"2021-02-09T00:00:00\",\"2021-02-10T00:00:00\",\"2021-02-11T00:00:00\",\"2021-02-12T00:00:00\",\"2021-02-16T00:00:00\",\"2021-02-17T00:00:00\",\"2021-02-18T00:00:00\",\"2021-02-19T00:00:00\",\"2021-02-22T00:00:00\",\"2021-02-23T00:00:00\",\"2021-02-24T00:00:00\",\"2021-02-25T00:00:00\",\"2021-02-26T00:00:00\",\"2021-03-01T00:00:00\",\"2021-03-02T00:00:00\",\"2021-03-03T00:00:00\",\"2021-03-04T00:00:00\",\"2021-03-05T00:00:00\",\"2021-03-08T00:00:00\",\"2021-03-09T00:00:00\",\"2021-03-10T00:00:00\",\"2021-03-11T00:00:00\",\"2021-03-12T00:00:00\",\"2021-03-15T00:00:00\",\"2021-03-16T00:00:00\",\"2021-03-17T00:00:00\",\"2021-03-18T00:00:00\",\"2021-03-19T00:00:00\",\"2021-03-22T00:00:00\",\"2021-03-23T00:00:00\",\"2021-03-24T00:00:00\",\"2021-03-25T00:00:00\",\"2021-03-26T00:00:00\",\"2021-03-29T00:00:00\",\"2021-03-30T00:00:00\",\"2021-03-31T00:00:00\",\"2021-04-01T00:00:00\",\"2021-04-05T00:00:00\",\"2021-04-06T00:00:00\",\"2021-04-07T00:00:00\",\"2021-04-08T00:00:00\",\"2021-04-09T00:00:00\",\"2021-04-12T00:00:00\",\"2021-04-13T00:00:00\",\"2021-04-14T00:00:00\",\"2021-04-15T00:00:00\",\"2021-04-16T00:00:00\",\"2021-04-19T00:00:00\",\"2021-04-20T00:00:00\",\"2021-04-21T00:00:00\",\"2021-04-22T00:00:00\",\"2021-04-23T00:00:00\",\"2021-04-26T00:00:00\",\"2021-04-27T00:00:00\",\"2021-04-28T00:00:00\",\"2021-04-29T00:00:00\",\"2021-04-30T00:00:00\",\"2021-05-03T00:00:00\",\"2021-05-04T00:00:00\",\"2021-05-05T00:00:00\",\"2021-05-06T00:00:00\",\"2021-05-07T00:00:00\",\"2021-05-10T00:00:00\",\"2021-05-11T00:00:00\",\"2021-05-12T00:00:00\",\"2021-05-13T00:00:00\",\"2021-05-14T00:00:00\",\"2021-05-17T00:00:00\",\"2021-05-18T00:00:00\",\"2021-05-19T00:00:00\",\"2021-05-20T00:00:00\",\"2021-05-21T00:00:00\",\"2021-05-24T00:00:00\",\"2021-05-25T00:00:00\",\"2021-05-26T00:00:00\",\"2021-05-27T00:00:00\",\"2021-05-28T00:00:00\",\"2021-06-01T00:00:00\",\"2021-06-02T00:00:00\",\"2021-06-03T00:00:00\",\"2021-06-04T00:00:00\",\"2021-06-07T00:00:00\",\"2021-06-08T00:00:00\",\"2021-06-09T00:00:00\",\"2021-06-10T00:00:00\",\"2021-06-11T00:00:00\",\"2021-06-14T00:00:00\",\"2021-06-15T00:00:00\",\"2021-06-16T00:00:00\",\"2021-06-17T00:00:00\",\"2021-06-18T00:00:00\",\"2021-06-21T00:00:00\",\"2021-06-22T00:00:00\",\"2021-06-23T00:00:00\",\"2021-06-24T00:00:00\",\"2021-06-25T00:00:00\",\"2021-06-28T00:00:00\",\"2021-06-29T00:00:00\",\"2021-06-30T00:00:00\",\"2021-07-01T00:00:00\",\"2021-07-02T00:00:00\",\"2021-07-06T00:00:00\",\"2021-07-07T00:00:00\",\"2021-07-08T00:00:00\",\"2021-07-09T00:00:00\",\"2021-07-12T00:00:00\",\"2021-07-13T00:00:00\",\"2021-07-14T00:00:00\",\"2021-07-15T00:00:00\",\"2021-07-16T00:00:00\",\"2021-07-19T00:00:00\",\"2021-07-20T00:00:00\",\"2021-07-21T00:00:00\",\"2021-07-22T00:00:00\",\"2021-07-23T00:00:00\",\"2021-07-26T00:00:00\",\"2021-07-27T00:00:00\",\"2021-07-28T00:00:00\",\"2021-07-29T00:00:00\",\"2021-07-30T00:00:00\",\"2021-08-02T00:00:00\",\"2021-08-03T00:00:00\",\"2021-08-04T00:00:00\",\"2021-08-05T00:00:00\",\"2021-08-06T00:00:00\",\"2021-08-09T00:00:00\",\"2021-08-10T00:00:00\",\"2021-08-11T00:00:00\",\"2021-08-12T00:00:00\",\"2021-08-13T00:00:00\",\"2021-08-16T00:00:00\",\"2021-08-17T00:00:00\",\"2021-08-18T00:00:00\",\"2021-08-19T00:00:00\",\"2021-08-20T00:00:00\",\"2021-08-23T00:00:00\",\"2021-08-24T00:00:00\",\"2021-08-25T00:00:00\",\"2021-08-26T00:00:00\",\"2021-08-27T00:00:00\",\"2021-08-30T00:00:00\",\"2021-08-31T00:00:00\",\"2021-09-01T00:00:00\",\"2021-09-02T00:00:00\",\"2021-09-03T00:00:00\",\"2021-09-07T00:00:00\",\"2021-09-08T00:00:00\",\"2021-09-09T00:00:00\",\"2021-09-10T00:00:00\",\"2021-09-13T00:00:00\",\"2021-09-14T00:00:00\",\"2021-09-15T00:00:00\",\"2021-09-16T00:00:00\",\"2021-09-17T00:00:00\",\"2021-09-20T00:00:00\",\"2021-09-21T00:00:00\",\"2021-09-22T00:00:00\",\"2021-09-23T00:00:00\",\"2021-09-24T00:00:00\",\"2021-09-27T00:00:00\",\"2021-09-28T00:00:00\",\"2021-09-29T00:00:00\",\"2021-09-30T00:00:00\",\"2021-10-01T00:00:00\",\"2021-10-04T00:00:00\",\"2021-10-05T00:00:00\",\"2021-10-06T00:00:00\",\"2021-10-07T00:00:00\",\"2021-10-08T00:00:00\",\"2021-10-11T00:00:00\",\"2021-10-12T00:00:00\",\"2021-10-13T00:00:00\",\"2021-10-14T00:00:00\",\"2021-10-15T00:00:00\",\"2021-10-18T00:00:00\",\"2021-10-19T00:00:00\",\"2021-10-20T00:00:00\",\"2021-10-21T00:00:00\",\"2021-10-22T00:00:00\",\"2021-10-25T00:00:00\",\"2021-10-26T00:00:00\",\"2021-10-27T00:00:00\",\"2021-10-28T00:00:00\",\"2021-10-29T00:00:00\",\"2021-11-01T00:00:00\",\"2021-11-02T00:00:00\",\"2021-11-03T00:00:00\",\"2021-11-04T00:00:00\",\"2021-11-05T00:00:00\",\"2021-11-08T00:00:00\",\"2021-11-09T00:00:00\",\"2021-11-10T00:00:00\",\"2021-11-11T00:00:00\",\"2021-11-12T00:00:00\",\"2021-11-15T00:00:00\",\"2021-11-16T00:00:00\",\"2021-11-17T00:00:00\",\"2021-11-18T00:00:00\",\"2021-11-19T00:00:00\",\"2021-11-22T00:00:00\",\"2021-11-23T00:00:00\",\"2021-11-24T00:00:00\",\"2021-11-26T00:00:00\",\"2021-11-29T00:00:00\",\"2021-11-30T00:00:00\",\"2021-12-01T00:00:00\",\"2021-12-02T00:00:00\",\"2021-12-03T00:00:00\",\"2021-12-06T00:00:00\",\"2021-12-07T00:00:00\",\"2021-12-08T00:00:00\",\"2021-12-09T00:00:00\",\"2021-12-10T00:00:00\",\"2021-12-13T00:00:00\",\"2021-12-14T00:00:00\",\"2021-12-15T00:00:00\",\"2021-12-16T00:00:00\",\"2021-12-17T00:00:00\",\"2021-12-20T00:00:00\",\"2021-12-21T00:00:00\",\"2021-12-22T00:00:00\",\"2021-12-23T00:00:00\",\"2021-12-27T00:00:00\",\"2021-12-28T00:00:00\",\"2021-12-29T00:00:00\",\"2021-12-30T00:00:00\",\"2021-12-31T00:00:00\",\"2022-01-03T00:00:00\",\"2022-01-04T00:00:00\",\"2022-01-05T00:00:00\",\"2022-01-06T00:00:00\",\"2022-01-07T00:00:00\",\"2022-01-10T00:00:00\",\"2022-01-11T00:00:00\",\"2022-01-12T00:00:00\",\"2022-01-13T00:00:00\",\"2022-01-14T00:00:00\",\"2022-01-18T00:00:00\",\"2022-01-19T00:00:00\",\"2022-01-20T00:00:00\",\"2022-01-21T00:00:00\",\"2022-01-24T00:00:00\",\"2022-01-25T00:00:00\",\"2022-01-26T00:00:00\",\"2022-01-27T00:00:00\",\"2022-01-28T00:00:00\",\"2022-01-31T00:00:00\",\"2022-02-01T00:00:00\",\"2022-02-02T00:00:00\",\"2022-02-03T00:00:00\",\"2022-02-04T00:00:00\",\"2022-02-07T00:00:00\",\"2022-02-08T00:00:00\",\"2022-02-09T00:00:00\",\"2022-02-10T00:00:00\",\"2022-02-11T00:00:00\",\"2022-02-14T00:00:00\",\"2022-02-15T00:00:00\",\"2022-02-16T00:00:00\",\"2022-02-17T00:00:00\",\"2022-02-18T00:00:00\",\"2022-02-22T00:00:00\",\"2022-02-23T00:00:00\",\"2022-02-24T00:00:00\",\"2022-02-25T00:00:00\",\"2022-02-28T00:00:00\",\"2022-03-01T00:00:00\",\"2022-03-02T00:00:00\",\"2022-03-03T00:00:00\",\"2022-03-04T00:00:00\",\"2022-03-07T00:00:00\",\"2022-03-08T00:00:00\",\"2022-03-09T00:00:00\",\"2022-03-10T00:00:00\",\"2022-03-11T00:00:00\",\"2022-03-14T00:00:00\",\"2022-03-15T00:00:00\",\"2022-03-16T00:00:00\",\"2022-03-17T00:00:00\",\"2022-03-18T00:00:00\",\"2022-03-21T00:00:00\",\"2022-03-22T00:00:00\",\"2022-03-23T00:00:00\",\"2022-03-24T00:00:00\",\"2022-03-25T00:00:00\",\"2022-03-28T00:00:00\",\"2022-03-29T00:00:00\",\"2022-03-30T00:00:00\",\"2022-03-31T00:00:00\",\"2022-04-01T00:00:00\",\"2022-04-04T00:00:00\",\"2022-04-05T00:00:00\",\"2022-04-06T00:00:00\",\"2022-04-07T00:00:00\",\"2022-04-08T00:00:00\",\"2022-04-11T00:00:00\",\"2022-04-12T00:00:00\",\"2022-04-13T00:00:00\",\"2022-04-14T00:00:00\",\"2022-04-18T00:00:00\",\"2022-04-19T00:00:00\",\"2022-04-20T00:00:00\",\"2022-04-21T00:00:00\",\"2022-04-22T00:00:00\",\"2022-04-25T00:00:00\",\"2022-04-26T00:00:00\",\"2022-04-27T00:00:00\",\"2022-04-28T00:00:00\",\"2022-04-29T00:00:00\",\"2022-05-02T00:00:00\",\"2022-05-03T00:00:00\",\"2022-05-04T00:00:00\",\"2022-05-05T00:00:00\",\"2022-05-06T00:00:00\",\"2022-05-09T00:00:00\",\"2022-05-10T00:00:00\",\"2022-05-11T00:00:00\",\"2022-05-12T00:00:00\",\"2022-05-13T00:00:00\",\"2022-05-16T00:00:00\",\"2022-05-17T00:00:00\",\"2022-05-18T00:00:00\",\"2022-05-19T00:00:00\",\"2022-05-20T00:00:00\",\"2022-05-23T00:00:00\",\"2022-05-24T00:00:00\",\"2022-05-25T00:00:00\",\"2022-05-26T00:00:00\",\"2022-05-27T00:00:00\",\"2022-05-31T00:00:00\",\"2022-06-01T00:00:00\",\"2022-06-02T00:00:00\",\"2022-06-03T00:00:00\",\"2022-06-06T00:00:00\",\"2022-06-07T00:00:00\",\"2022-06-08T00:00:00\",\"2022-06-09T00:00:00\",\"2022-06-10T00:00:00\",\"2022-06-13T00:00:00\",\"2022-06-14T00:00:00\",\"2022-06-15T00:00:00\",\"2022-06-16T00:00:00\",\"2022-06-17T00:00:00\",\"2022-06-21T00:00:00\",\"2022-06-22T00:00:00\",\"2022-06-23T00:00:00\",\"2022-06-24T00:00:00\",\"2022-06-27T00:00:00\",\"2022-06-28T00:00:00\",\"2022-06-29T00:00:00\",\"2022-06-30T00:00:00\",\"2022-07-01T00:00:00\",\"2022-07-05T00:00:00\",\"2022-07-06T00:00:00\",\"2022-07-07T00:00:00\",\"2022-07-08T00:00:00\",\"2022-07-11T00:00:00\",\"2022-07-12T00:00:00\",\"2022-07-13T00:00:00\",\"2022-07-14T00:00:00\",\"2022-07-15T00:00:00\",\"2022-07-18T00:00:00\",\"2022-07-19T00:00:00\",\"2022-07-20T00:00:00\",\"2022-07-21T00:00:00\",\"2022-07-22T00:00:00\",\"2022-07-25T00:00:00\",\"2022-07-26T00:00:00\",\"2022-07-27T00:00:00\",\"2022-07-28T00:00:00\",\"2022-07-29T00:00:00\",\"2022-08-01T00:00:00\",\"2022-08-02T00:00:00\",\"2022-08-03T00:00:00\",\"2022-08-04T00:00:00\",\"2022-08-05T00:00:00\",\"2022-08-08T00:00:00\",\"2022-08-09T00:00:00\",\"2022-08-10T00:00:00\",\"2022-08-11T00:00:00\",\"2022-08-12T00:00:00\",\"2022-08-15T00:00:00\",\"2022-08-16T00:00:00\",\"2022-08-17T00:00:00\",\"2022-08-18T00:00:00\",\"2022-08-19T00:00:00\",\"2022-08-22T00:00:00\",\"2022-08-23T00:00:00\",\"2022-08-24T00:00:00\",\"2022-08-25T00:00:00\",\"2022-08-26T00:00:00\",\"2022-08-29T00:00:00\",\"2022-08-30T00:00:00\",\"2022-08-31T00:00:00\",\"2022-09-01T00:00:00\",\"2022-09-02T00:00:00\",\"2022-09-06T00:00:00\",\"2022-09-07T00:00:00\",\"2022-09-08T00:00:00\",\"2022-09-09T00:00:00\",\"2022-09-12T00:00:00\",\"2022-09-13T00:00:00\",\"2022-09-14T00:00:00\",\"2022-09-15T00:00:00\",\"2022-09-16T00:00:00\",\"2022-09-19T00:00:00\",\"2022-09-20T00:00:00\",\"2022-09-21T00:00:00\",\"2022-09-22T00:00:00\",\"2022-09-23T00:00:00\",\"2022-09-26T00:00:00\",\"2022-09-27T00:00:00\",\"2022-09-28T00:00:00\",\"2022-09-29T00:00:00\",\"2022-09-30T00:00:00\",\"2022-10-03T00:00:00\",\"2022-10-04T00:00:00\",\"2022-10-05T00:00:00\",\"2022-10-06T00:00:00\",\"2022-10-07T00:00:00\",\"2022-10-10T00:00:00\",\"2022-10-11T00:00:00\",\"2022-10-12T00:00:00\",\"2022-10-13T00:00:00\",\"2022-10-14T00:00:00\",\"2022-10-17T00:00:00\",\"2022-10-18T00:00:00\",\"2022-10-19T00:00:00\",\"2022-10-20T00:00:00\",\"2022-10-21T00:00:00\",\"2022-10-24T00:00:00\",\"2022-10-25T00:00:00\",\"2022-10-26T00:00:00\",\"2022-10-27T00:00:00\",\"2022-10-28T00:00:00\",\"2022-10-31T00:00:00\",\"2022-11-01T00:00:00\",\"2022-11-02T00:00:00\",\"2022-11-03T00:00:00\",\"2022-11-04T00:00:00\",\"2022-11-07T00:00:00\",\"2022-11-08T00:00:00\",\"2022-11-09T00:00:00\",\"2022-11-10T00:00:00\",\"2022-11-11T00:00:00\",\"2022-11-14T00:00:00\",\"2022-11-15T00:00:00\",\"2022-11-16T00:00:00\",\"2022-11-17T00:00:00\",\"2022-11-18T00:00:00\",\"2022-11-21T00:00:00\",\"2022-11-22T00:00:00\",\"2022-11-23T00:00:00\",\"2022-11-25T00:00:00\",\"2022-11-28T00:00:00\",\"2022-11-29T00:00:00\",\"2022-11-30T00:00:00\",\"2022-12-01T00:00:00\",\"2022-12-02T00:00:00\",\"2022-12-05T00:00:00\",\"2022-12-06T00:00:00\",\"2022-12-07T00:00:00\",\"2022-12-08T00:00:00\",\"2022-12-09T00:00:00\",\"2022-12-12T00:00:00\",\"2022-12-13T00:00:00\",\"2022-12-14T00:00:00\",\"2022-12-15T00:00:00\",\"2022-12-16T00:00:00\",\"2022-12-19T00:00:00\",\"2022-12-20T00:00:00\",\"2022-12-21T00:00:00\",\"2022-12-22T00:00:00\",\"2022-12-23T00:00:00\",\"2022-12-27T00:00:00\",\"2022-12-28T00:00:00\",\"2022-12-29T00:00:00\",\"2022-12-30T00:00:00\"],\"y\":[94.90049743652344,93.74849700927734,95.14399719238281,95.34300231933594,94.59850311279297,95.05249786376953,94.15799713134766,94.56500244140625,93.47200012207031,93.10099792480469,93.89700317382812,93.23600006103516,94.5999984741211,94.37300109863281,94.22899627685547,93.08200073242188,91.41699981689453,92.6624984741211,92.9000015258789,93.53399658203125,100.43599700927734,100.20999908447266,102.4834976196289,101.99349975585938,102.5114974975586,103.96399688720703,106.69550323486328,107.54000091552734,108.0,107.49349975585938,106.74349975585938,107.78350067138672,108.51100158691406,107.65499877929688,104.79850006103516,100.4645004272461,98.63700103759766,98.97949981689453,94.21499633789062,94.1875,97.69750213623047,95.44950103759766,98.79149627685547,96.20149993896484,95.05449676513672,90.03050231933594,94.59100341796875,91.04299926757812,83.83049774169922,89.25,84.4574966430664,90.39199829101562,91.5,94.04650115966797,92.30449676513672,95.1415023803711,97.00499725341797,94.29199981689453,97.77449798583984,95.00499725341797,98.19750213623047,97.48600006103516,95.38500213623047,95.94149780273438,95.32949829101562,99.87950134277344,100.58000183105469,102.1500015258789,102.13800048828125,108.44349670410156,114.16600036621094,115.38400268554688,120.40950012207031,118.75,119.68049621582031,116.40599822998047,118.17449951171875,119.97250366210938,120.51100158691406,118.80000305175781,115.7040023803711,118.635498046875,123.69999694824219,114.302001953125,115.79949951171875,115.88999938964844,117.56300354003906,118.38050079345703,118.98049926757812,120.44999694824219,117.84750366210938,118.39600372314453,119.44249725341797,120.48899841308594,121.31300354003906,122.46649932861328,124.89700317382812,122.33699798583984,121.84400177001953,121.09300231933594,120.51950073242188,120.05500030517578,122.11849975585938,123.552001953125,123.62049865722656,123.91999816894531,123.02999877929688,124.1500015258789,126.2030029296875,130.04299926757812,132.37249755859375,127.89800262451172,127.2509994506836,128.63400268554688,130.7635040283203,132.0489959716797,132.69900512695312,133.75050354003906,135.6909942626953,138.2205047607422,136.72000122070312,137.72900390625,134.64349365234375,134.0189971923828,137.9409942626953,143.93499755859375,144.51499938964844,152.8520050048828,150.00599670410156,154.0554962158203,159.13150024414062,160.0,155.1999969482422,154.1999969482422,150.44349670410156,149.9949951171875,148.09849548339844,159.8419952392578,156.9145050048828,154.99549865722656,149.32749938964844,150.44549560546875,152.760498046875,150.01649475097656,151.67649841308594,152.593994140625,158.23399353027344,155.59449768066406,156.94149780273438,160.25149536132812,161.25,158.3730010986328,157.4080047607422,154.0334930419922,158.11199951171875,158.05099487304688,157.4010009765625,159.12049865722656,165.62449645996094,163.0240020751953,164.86849975585938,164.23599243164062,165.3730010986328,167.32449340820312,172.09249877929688,170.0,170.08999633789062,172.54800415039062,174.95599365234375,176.57249450683594,168.39999389648438,164.7310028076172,157.49200439453125,163.4304962158203,158.7554931640625,155.81100463867188,155.14849853515625,157.80650329589844,153.90499877929688,150.43649291992188,147.74549865722656,148.02349853515625,156.44949340820312,149.9929962158203,150.989501953125,154.75650024414062,158.70249938964844,157.24400329589844,157.43649291992188,161.06300354003906,156.25,159.9600067138672,154.9980010986328,159.7845001220703,159.52749633789062,164.33250427246094,172.14649963378906,172.18150329589844,168.1855010986328,166.9324951171875,163.635498046875,160.36050415039062,160.85049438476562,159.2469940185547,158.82000732421875,160.22000122070312,160.3520050048828,164.31649780273438,158.13900756835938,160.55050659179688,151.8074951171875,150.2239990234375,152.42050170898438,162.05799865722656,166.10000610351562,165.56849670410156,157.18699645996094,151.75100708007812,156.8695068359375,155.51400756835938,156.4405059814453,156.55299377441406,156.7830047607422,155.2729949951172,155.8509979248047,154.97000122070312,154.91949462890625,155.9029998779297,159.2534942626953,159.76699829101562,158.40199279785156,161.00399780273438,160.17649841308594,159.3365020751953,158.12899780273438,157.89999389648438,158.864501953125,155.2100067138672,155.07449340820312,155.8209991455078,157.84849548339844,158.25599670410156,162.04800415039062,161.8040008544922,160.08250427246094,160.3090057373047,160.3260040283203,159.2635040283203,158.63450622558594,164.197998046875,166.10000610351562,164.29249572753906,162.84649658203125,159.3314971923828,160.92550659179688,156.91900634765625,158.10800170898438,159.13499450683594,155.7104949951172,156.04150390625,158.29449462890625,156.37350463867188,155.21249389648438,156.03799438476562,163.16900634765625,165.34950256347656,164.6114959716797,164.6999969482422,166.30650329589844,161.62899780273438,161.88099670410156,160.30999755859375,167.1439971923828,169.0,165.62649536132812,166.5500030517578,167.6074981689453,166.14700317382812,165.25,164.32899475097656,163.10650634765625,163.885498046875,163.44749450683594,165.4320068359375,166.4114990234375,162.4949951171875,159.03700256347656,159.72500610351562,157.97650146484375,152.85800170898438,154.64649963378906,157.3070068359375,154.72650146484375,150.25,148.8784942626953,150.0229949951172,147.59750366210938,153.1425018310547,152.8820037841797,155.67950439453125,154.47450256347656,154.08399963378906,154.59300231933594,156.7864990234375,151.39950561523438,153.7480010986328,155.5435028076172,156.875,154.35350036621094,152.31300354003906,152.60150146484375,153.7864990234375,152.76449584960938,154.70399475097656,158.0500030517578,161.3365020751953,161.1909942626953,163.96949768066406,164.96499633789062,168.61000061035156,168.96949768066406,170.0,166.64999389648438,168.95449829101562,169.9720001220703,168.60049438476562,166.7344970703125,168.1009979248047,165.45199584960938,167.04400634765625,170.4499969482422,170.8715057373047,172.9250030517578,173.5655059814453,173.37100219726562,169.32449340820312,165.593505859375,163.52699279785156,165.31849670410156,164.58050537109375,159.52450561523438,161.19549560546875,157.5970001220703,158.07350158691406,161.14500427246094,163.51950073242188,161.61399841308594,161.58999633789062,162.38400268554688,160.1540069580078,162.24949645996094,162.95249938964844,163.25799560546875,161.5054931640625,161.15350341796875,160.9324951171875,161.69949340820312,159.35049438476562,160.31100463867188,159.90049743652344,163.20550537109375,164.0574951171875,167.4824981689453,167.3415069580078,169.19349670410156,169.156494140625,170.7624969482422,174.46200561523438,174.34500122070312,172.697998046875,175.27200317382812,175.1909942626953,172.45399475097656,170.072998046875,172.1945037841797,172.40699768066406,172.00799560546875,171.64849853515625,175.5489959716797,183.78700256347656,184.82899475097656,186.57049560546875,185.9669952392578,185.92750549316406,183.8679962158203,184.08399963378906,181.55999755859375,178.68150329589844,177.47950744628906,178.6595001220703,179.25999450683594,181.90150451660156,182.83200073242188,184.99099731445312,181.3195037841797,181.51600646972656,179.99600219726562,166.37950134277344,166.57400512695312,168.31199645996094,167.73599243164062,168.79949951171875,167.2469940185547,167.093505859375,166.03399658203125,164.60549926757812,165.1750030517578,164.69850158691406,164.94949340820312,162.09800720214844,160.06100463867188,159.3874969482422,159.99749755859375,163.2935028076172,165.28900146484375,164.95899963378906,165.8000030517578,167.48150634765625,171.07850646972656,173.5395050048828,173.9499969482422,173.156005859375,173.90249633789062,175.46449279785156,176.27499389648438,174.20799255371094,173.45750427246094,172.85850524902344,172.5,173.7895050048828,174.41200256347656,173.12600708007812,167.7864990234375,167.18150329589844,169.00250244140625,170.8000030517578,171.2760009765625,170.2899932861328,165.79800415039062,165.05599975585938,164.2519989013672,164.16299438476562,159.48899841308594,161.0500030517578,163.10049438476562,165.1215057373047,164.43099975585938,162.31500244140625,162.3665008544922,164.21400451660156,164.9929962158203,170.4510040283203,172.33700561523438,172.20750427246094,170.7530059814453,171.75050354003906,166.77749633789062,166.01849365234375,168.80349731445312,169.62449645996094,172.32850646972656,168.6215057373047,165.90550231933594,165.6374969482422,169.1999969482422,173.85000610351562,175.94949340820312,174.44900512695312,178.81149291992188,174.1024932861328,173.625,176.25750732421875,177.28399658203125,177.03500366210938,177.4499969482422,184.80299377441406,183.82850646972656,178.6284942626953,179.0019989013672,179.02049255371094,175.22799682617188,178.07850646972656,175.35350036621094,172.18600463867188,171.8679962158203,169.489501953125,171.36849975585938,176.1645050048828,176.1580047607422,174.17100524902344,172.21200561523438,169.5675048828125,169.0915069580078,173.31500244140625,168.87100219726562,170.0175018310547,167.07899475097656,170.41700744628906,171.03700256347656,171.06849670410156,169.66949462890625,170.66099548339844,169.2010040283203,168.64450073242188,166.7169952392578,170.4044952392578,167.52200317382812,164.35699462890625,163.25399780273438,162.5540008544922,161.48599243164062,165.36199951171875,165.20700073242188,161.21400451660156,162.13800048828125,158.91749572753906,156.2989959716797,151.66749572753906,142.64300537109375,144.54400634765625,139.98599243164062,138.87249755859375,139.6374969482422,143.97799682617188,149.57350158691406,151.19349670410156,150.6125030517578,138.8455047607422,157.63949584960938,157.9355010986328,161.4134979248047,161.1894989013672,159.0034942626953,153.2935028076172,155.16700744628906,156.510498046875,158.10049438476562,154.65249633789062,152.60150146484375,150.19749450683594,144.82699584960938,151.35800170898438,153.7884979248047,153.56300354003906,151.14199829101562,152.05250549316406,147.89849853515625,145.64100646972656,137.4530029296875,136.01449584960938,139.2790069580078,146.8175048828125,145.52450561523438,141.85299682617188,147.3665008544922,153.10400390625,157.23899841308594,161.25050354003906,161.4915008544922,164.88900756835938,163.4080047607422,163.64950561523438,164.77349853515625,168.99049377441406,169.31500244140625,166.30099487304688,162.99749755859375,163.55999755859375,168.34649658203125,164.05499267578125,158.75599670410156,157.7845001220703,154.4604949951172,151.1219940185547,150.78750610351562,155.54100036621094,151.7064971923828,152.78500366210938,158.11549377441406,153.9980010986328,148.29600524902344,144.35000610351562,146.07400512695312,139.39100646972656,138.16700744628906,144.59649658203125,124.28150177001953,124.5,124.25350189208984,125.92849731445312,116.40699768066406,114.77249908447266,108.78900146484375,108.85900115966797,105.37200164794922,106.93049621582031,113.05500030517578,110.81050109863281,115.36849975585938,107.11250305175781,107.31900024414062,107.59100341796875,107.55699920654297,104.0999984741211,106.7750015258789,111.07749938964844,115.14649963378906,120.20950317382812,121.68399810791016,125.51100158691406,122.3499984741211,124.79000091552734,123.0,121.18000030517578,116.1500015258789,109.6500015258789,103.66999816894531,102.30999755859375,107.66999816894531,103.66000366210938,106.22000122070312,108.68000030517578,108.94999694824219,112.44000244140625,116.45999908447266,113.22000122070312,107.4000015258789,108.91999816894531,106.20999908447266,109.55999755859375,113.5,114.33000183105469,116.33000183105469,115.54000091552734,111.75,109.22000122070312,110.4000015258789,110.62999725341797,113.55000305175781,113.76000213623047,118.20999908447266,122.7699966430664,124.62999725341797,122.41999816894531,121.13999938964844,114.80999755859375,120.97000122070312,122.27999877929688,134.9499969482422,135.38999938964844,134.16000366210938,139.52000427246094,142.57000732421875,140.8000030517578,139.41000366210938,137.8300018310547,142.69000244140625,140.63999938964844,143.5500030517578,143.17999267578125,144.77999877929688,142.10000610351562,142.3000030517578,138.22999572753906,133.22000122070312,133.6199951171875,133.8000030517578,137.27999877929688,130.75,129.7899932861328,128.72999572753906,126.7699966430664,127.81999969482422,127.51000213623047,126.11000061035156,129.47999572753906,129.82000732421875,133.27000427246094,136.4499969482422,126.81999969482422,128.5500030517578,126.27999877929688,123.52999877929688,124.66000366210938,122.19000244140625,118.54000091552734,117.30999755859375,113.77999877929688,115.1500015258789,114.41000366210938,118.01000213623047,114.80000305175781,113.0,115.87999725341797,121.08999633789062,120.94999694824219,120.30000305175781,114.55999755859375,113.66999816894531,112.20999908447266,112.9000015258789,112.52999877929688,106.9000015258789,113.79000091552734,116.36000061035156,115.06999969482422,115.25,119.31999969482422,119.81999969482422,120.5999984741211,115.66000366210938,110.95999908447266,103.41000366210938,102.44000244140625,96.79000091552734,92.12000274658203,89.30000305175781,90.9800033569336,90.52999877929688,89.9800033569336,86.13999938964844,96.62999725341797,100.79000091552734,98.48999786376953,98.94000244140625,97.12000274658203,94.8499984741211,94.13999938964844,92.45999908447266,93.19999694824219,94.12999725341797,93.41000366210938,93.94999694824219,92.41999816894531,96.54000091552734,95.5,94.12999725341797,91.01000213623047,88.25,88.45999908447266,90.3499984741211,89.08999633789062,90.55000305175781,92.48999786376953,91.58000183105469,88.44999694824219,87.86000061035156,84.91999816894531,85.19000244140625,86.7699966430664,83.79000091552734,85.25,83.04000091552734,81.81999969482422,84.18000030517578,84.0],\"type\":\"scatter\"}],                        {\"template\":{\"data\":{\"barpolar\":[{\"marker\":{\"line\":{\"color\":\"white\",\"width\":0.5},\"pattern\":{\"fillmode\":\"overlay\",\"size\":10,\"solidity\":0.2}},\"type\":\"barpolar\"}],\"bar\":[{\"error_x\":{\"color\":\"#2a3f5f\"},\"error_y\":{\"color\":\"#2a3f5f\"},\"marker\":{\"line\":{\"color\":\"white\",\"width\":0.5},\"pattern\":{\"fillmode\":\"overlay\",\"size\":10,\"solidity\":0.2}},\"type\":\"bar\"}],\"carpet\":[{\"aaxis\":{\"endlinecolor\":\"#2a3f5f\",\"gridcolor\":\"#C8D4E3\",\"linecolor\":\"#C8D4E3\",\"minorgridcolor\":\"#C8D4E3\",\"startlinecolor\":\"#2a3f5f\"},\"baxis\":{\"endlinecolor\":\"#2a3f5f\",\"gridcolor\":\"#C8D4E3\",\"linecolor\":\"#C8D4E3\",\"minorgridcolor\":\"#C8D4E3\",\"startlinecolor\":\"#2a3f5f\"},\"type\":\"carpet\"}],\"choropleth\":[{\"colorbar\":{\"outlinewidth\":0,\"ticks\":\"\"},\"type\":\"choropleth\"}],\"contourcarpet\":[{\"colorbar\":{\"outlinewidth\":0,\"ticks\":\"\"},\"type\":\"contourcarpet\"}],\"contour\":[{\"colorbar\":{\"outlinewidth\":0,\"ticks\":\"\"},\"colorscale\":[[0.0,\"#0d0887\"],[0.1111111111111111,\"#46039f\"],[0.2222222222222222,\"#7201a8\"],[0.3333333333333333,\"#9c179e\"],[0.4444444444444444,\"#bd3786\"],[0.5555555555555556,\"#d8576b\"],[0.6666666666666666,\"#ed7953\"],[0.7777777777777778,\"#fb9f3a\"],[0.8888888888888888,\"#fdca26\"],[1.0,\"#f0f921\"]],\"type\":\"contour\"}],\"heatmapgl\":[{\"colorbar\":{\"outlinewidth\":0,\"ticks\":\"\"},\"colorscale\":[[0.0,\"#0d0887\"],[0.1111111111111111,\"#46039f\"],[0.2222222222222222,\"#7201a8\"],[0.3333333333333333,\"#9c179e\"],[0.4444444444444444,\"#bd3786\"],[0.5555555555555556,\"#d8576b\"],[0.6666666666666666,\"#ed7953\"],[0.7777777777777778,\"#fb9f3a\"],[0.8888888888888888,\"#fdca26\"],[1.0,\"#f0f921\"]],\"type\":\"heatmapgl\"}],\"heatmap\":[{\"colorbar\":{\"outlinewidth\":0,\"ticks\":\"\"},\"colorscale\":[[0.0,\"#0d0887\"],[0.1111111111111111,\"#46039f\"],[0.2222222222222222,\"#7201a8\"],[0.3333333333333333,\"#9c179e\"],[0.4444444444444444,\"#bd3786\"],[0.5555555555555556,\"#d8576b\"],[0.6666666666666666,\"#ed7953\"],[0.7777777777777778,\"#fb9f3a\"],[0.8888888888888888,\"#fdca26\"],[1.0,\"#f0f921\"]],\"type\":\"heatmap\"}],\"histogram2dcontour\":[{\"colorbar\":{\"outlinewidth\":0,\"ticks\":\"\"},\"colorscale\":[[0.0,\"#0d0887\"],[0.1111111111111111,\"#46039f\"],[0.2222222222222222,\"#7201a8\"],[0.3333333333333333,\"#9c179e\"],[0.4444444444444444,\"#bd3786\"],[0.5555555555555556,\"#d8576b\"],[0.6666666666666666,\"#ed7953\"],[0.7777777777777778,\"#fb9f3a\"],[0.8888888888888888,\"#fdca26\"],[1.0,\"#f0f921\"]],\"type\":\"histogram2dcontour\"}],\"histogram2d\":[{\"colorbar\":{\"outlinewidth\":0,\"ticks\":\"\"},\"colorscale\":[[0.0,\"#0d0887\"],[0.1111111111111111,\"#46039f\"],[0.2222222222222222,\"#7201a8\"],[0.3333333333333333,\"#9c179e\"],[0.4444444444444444,\"#bd3786\"],[0.5555555555555556,\"#d8576b\"],[0.6666666666666666,\"#ed7953\"],[0.7777777777777778,\"#fb9f3a\"],[0.8888888888888888,\"#fdca26\"],[1.0,\"#f0f921\"]],\"type\":\"histogram2d\"}],\"histogram\":[{\"marker\":{\"pattern\":{\"fillmode\":\"overlay\",\"size\":10,\"solidity\":0.2}},\"type\":\"histogram\"}],\"mesh3d\":[{\"colorbar\":{\"outlinewidth\":0,\"ticks\":\"\"},\"type\":\"mesh3d\"}],\"parcoords\":[{\"line\":{\"colorbar\":{\"outlinewidth\":0,\"ticks\":\"\"}},\"type\":\"parcoords\"}],\"pie\":[{\"automargin\":true,\"type\":\"pie\"}],\"scatter3d\":[{\"line\":{\"colorbar\":{\"outlinewidth\":0,\"ticks\":\"\"}},\"marker\":{\"colorbar\":{\"outlinewidth\":0,\"ticks\":\"\"}},\"type\":\"scatter3d\"}],\"scattercarpet\":[{\"marker\":{\"colorbar\":{\"outlinewidth\":0,\"ticks\":\"\"}},\"type\":\"scattercarpet\"}],\"scattergeo\":[{\"marker\":{\"colorbar\":{\"outlinewidth\":0,\"ticks\":\"\"}},\"type\":\"scattergeo\"}],\"scattergl\":[{\"marker\":{\"colorbar\":{\"outlinewidth\":0,\"ticks\":\"\"}},\"type\":\"scattergl\"}],\"scattermapbox\":[{\"marker\":{\"colorbar\":{\"outlinewidth\":0,\"ticks\":\"\"}},\"type\":\"scattermapbox\"}],\"scatterpolargl\":[{\"marker\":{\"colorbar\":{\"outlinewidth\":0,\"ticks\":\"\"}},\"type\":\"scatterpolargl\"}],\"scatterpolar\":[{\"marker\":{\"colorbar\":{\"outlinewidth\":0,\"ticks\":\"\"}},\"type\":\"scatterpolar\"}],\"scatter\":[{\"fillpattern\":{\"fillmode\":\"overlay\",\"size\":10,\"solidity\":0.2},\"type\":\"scatter\"}],\"scatterternary\":[{\"marker\":{\"colorbar\":{\"outlinewidth\":0,\"ticks\":\"\"}},\"type\":\"scatterternary\"}],\"surface\":[{\"colorbar\":{\"outlinewidth\":0,\"ticks\":\"\"},\"colorscale\":[[0.0,\"#0d0887\"],[0.1111111111111111,\"#46039f\"],[0.2222222222222222,\"#7201a8\"],[0.3333333333333333,\"#9c179e\"],[0.4444444444444444,\"#bd3786\"],[0.5555555555555556,\"#d8576b\"],[0.6666666666666666,\"#ed7953\"],[0.7777777777777778,\"#fb9f3a\"],[0.8888888888888888,\"#fdca26\"],[1.0,\"#f0f921\"]],\"type\":\"surface\"}],\"table\":[{\"cells\":{\"fill\":{\"color\":\"#EBF0F8\"},\"line\":{\"color\":\"white\"}},\"header\":{\"fill\":{\"color\":\"#C8D4E3\"},\"line\":{\"color\":\"white\"}},\"type\":\"table\"}]},\"layout\":{\"annotationdefaults\":{\"arrowcolor\":\"#2a3f5f\",\"arrowhead\":0,\"arrowwidth\":1},\"autotypenumbers\":\"strict\",\"coloraxis\":{\"colorbar\":{\"outlinewidth\":0,\"ticks\":\"\"}},\"colorscale\":{\"diverging\":[[0,\"#8e0152\"],[0.1,\"#c51b7d\"],[0.2,\"#de77ae\"],[0.3,\"#f1b6da\"],[0.4,\"#fde0ef\"],[0.5,\"#f7f7f7\"],[0.6,\"#e6f5d0\"],[0.7,\"#b8e186\"],[0.8,\"#7fbc41\"],[0.9,\"#4d9221\"],[1,\"#276419\"]],\"sequential\":[[0.0,\"#0d0887\"],[0.1111111111111111,\"#46039f\"],[0.2222222222222222,\"#7201a8\"],[0.3333333333333333,\"#9c179e\"],[0.4444444444444444,\"#bd3786\"],[0.5555555555555556,\"#d8576b\"],[0.6666666666666666,\"#ed7953\"],[0.7777777777777778,\"#fb9f3a\"],[0.8888888888888888,\"#fdca26\"],[1.0,\"#f0f921\"]],\"sequentialminus\":[[0.0,\"#0d0887\"],[0.1111111111111111,\"#46039f\"],[0.2222222222222222,\"#7201a8\"],[0.3333333333333333,\"#9c179e\"],[0.4444444444444444,\"#bd3786\"],[0.5555555555555556,\"#d8576b\"],[0.6666666666666666,\"#ed7953\"],[0.7777777777777778,\"#fb9f3a\"],[0.8888888888888888,\"#fdca26\"],[1.0,\"#f0f921\"]]},\"colorway\":[\"#636efa\",\"#EF553B\",\"#00cc96\",\"#ab63fa\",\"#FFA15A\",\"#19d3f3\",\"#FF6692\",\"#B6E880\",\"#FF97FF\",\"#FECB52\"],\"font\":{\"color\":\"#2a3f5f\"},\"geo\":{\"bgcolor\":\"white\",\"lakecolor\":\"white\",\"landcolor\":\"white\",\"showlakes\":true,\"showland\":true,\"subunitcolor\":\"#C8D4E3\"},\"hoverlabel\":{\"align\":\"left\"},\"hovermode\":\"closest\",\"mapbox\":{\"style\":\"light\"},\"paper_bgcolor\":\"white\",\"plot_bgcolor\":\"white\",\"polar\":{\"angularaxis\":{\"gridcolor\":\"#EBF0F8\",\"linecolor\":\"#EBF0F8\",\"ticks\":\"\"},\"bgcolor\":\"white\",\"radialaxis\":{\"gridcolor\":\"#EBF0F8\",\"linecolor\":\"#EBF0F8\",\"ticks\":\"\"}},\"scene\":{\"xaxis\":{\"backgroundcolor\":\"white\",\"gridcolor\":\"#DFE8F3\",\"gridwidth\":2,\"linecolor\":\"#EBF0F8\",\"showbackground\":true,\"ticks\":\"\",\"zerolinecolor\":\"#EBF0F8\"},\"yaxis\":{\"backgroundcolor\":\"white\",\"gridcolor\":\"#DFE8F3\",\"gridwidth\":2,\"linecolor\":\"#EBF0F8\",\"showbackground\":true,\"ticks\":\"\",\"zerolinecolor\":\"#EBF0F8\"},\"zaxis\":{\"backgroundcolor\":\"white\",\"gridcolor\":\"#DFE8F3\",\"gridwidth\":2,\"linecolor\":\"#EBF0F8\",\"showbackground\":true,\"ticks\":\"\",\"zerolinecolor\":\"#EBF0F8\"}},\"shapedefaults\":{\"line\":{\"color\":\"#2a3f5f\"}},\"ternary\":{\"aaxis\":{\"gridcolor\":\"#DFE8F3\",\"linecolor\":\"#A2B1C6\",\"ticks\":\"\"},\"baxis\":{\"gridcolor\":\"#DFE8F3\",\"linecolor\":\"#A2B1C6\",\"ticks\":\"\"},\"bgcolor\":\"white\",\"caxis\":{\"gridcolor\":\"#DFE8F3\",\"linecolor\":\"#A2B1C6\",\"ticks\":\"\"}},\"title\":{\"x\":0.05},\"xaxis\":{\"automargin\":true,\"gridcolor\":\"#EBF0F8\",\"linecolor\":\"#EBF0F8\",\"ticks\":\"\",\"title\":{\"standoff\":15},\"zerolinecolor\":\"#EBF0F8\",\"zerolinewidth\":2},\"yaxis\":{\"automargin\":true,\"gridcolor\":\"#EBF0F8\",\"linecolor\":\"#EBF0F8\",\"ticks\":\"\",\"title\":{\"standoff\":15},\"zerolinecolor\":\"#EBF0F8\",\"zerolinewidth\":2}}},\"title\":{\"text\":\"Precio de Cierre Ajustado de Amazon (AMZN)\"},\"xaxis\":{\"title\":{\"text\":\"Fecha\"}},\"yaxis\":{\"title\":{\"text\":\"Precio ($)\"}},\"legend\":{\"title\":{\"text\":\"Ticker\"}}},                        {\"responsive\": true}                    ).then(function(){\n",
              "                            \n",
              "var gd = document.getElementById('67928fa1-3ef4-47bd-922b-c5b76fdb68e4');\n",
              "var x = new MutationObserver(function (mutations, observer) {{\n",
              "        var display = window.getComputedStyle(gd).display;\n",
              "        if (!display || display === 'none') {{\n",
              "            console.log([gd, 'removed!']);\n",
              "            Plotly.purge(gd);\n",
              "            observer.disconnect();\n",
              "        }}\n",
              "}});\n",
              "\n",
              "// Listen for the removal of the full notebook cells\n",
              "var notebookContainer = gd.closest('#notebook-container');\n",
              "if (notebookContainer) {{\n",
              "    x.observe(notebookContainer, {childList: true});\n",
              "}}\n",
              "\n",
              "// Listen for the clearing of the current output cell\n",
              "var outputEl = gd.closest('.output');\n",
              "if (outputEl) {{\n",
              "    x.observe(outputEl, {childList: true});\n",
              "}}\n",
              "\n",
              "                        })                };                            </script>        </div>\n",
              "</body>\n",
              "</html>"
            ]
          },
          "metadata": {}
        }
      ]
    },
    {
      "cell_type": "markdown",
      "source": [
        "Explicación del Código\n",
        "\n",
        "1. **Importación de Librerías**: Se importa `yfinance` para descargar los datos financieros y `plotly.graph_objects` para crear gráficos interactivos.\n",
        "2. **Definición del Ticker**: Se define el ticker de Amazon (`AMZN`).\n",
        "3. **Descarga de Datos Históricos**: Utiliza `yfinance` para descargar los datos históricos de Amazon desde el 1 de enero de 2020 hasta el 1 de enero de 2023.\n",
        "4. **Mostrar los Primeros Registros**: Muestra los primeros registros de los datos descargados.\n",
        "5. **Graficar con Plotly**: Se crea una figura con `plotly.graph_objects` y se agrega una traza (`go.Scatter`) para los precios de cierre ajustados. Se configura el diseño del gráfico con `update_layout`.\n",
        "\n"
      ],
      "metadata": {
        "id": "_F3qRh5wnfdF"
      }
    },
    {
      "cell_type": "markdown",
      "source": [
        "Este código en Python utiliza las bibliotecas `yfinance` y `plotly` para descargar datos históricos de precios de las acciones de Amazon (AMZN) y visualizarlos en un gráfico interactivo. A continuación se explica cada sección del código:\n",
        "\n",
        "**Importación de Bibliotecas**\n",
        "\n",
        "```python\n",
        "import yfinance as yf\n",
        "import plotly.graph_objects as go\n",
        "```\n",
        "\n",
        "- **`yfinance`**: Es una biblioteca que facilita la descarga de datos financieros desde Yahoo Finance.\n",
        "- **`plotly.graph_objects`**: Es parte de la biblioteca `plotly`, utilizada para crear gráficos interactivos.\n",
        "\n",
        "**Definición del Ticker de la Acción**\n",
        "\n",
        "```python\n",
        "# Definir el ticker de la acción\n",
        "ticker = \"AMZN\"\n",
        "```\n",
        "\n",
        "- Se define el ticker de la acción de Amazon, que es \"AMZN\". Un ticker es un símbolo único utilizado para identificar una acción específica en la bolsa de valores.\n",
        "\n",
        "**Descarga de Datos Históricos**\n",
        "\n",
        "```python\n",
        "# Descargar datos históricos\n",
        "data = yf.download(ticker, start=\"2020-01-01\", end=\"2023-01-01\")\n",
        "```\n",
        "\n",
        "- **`yf.download`**: Esta función de `yfinance` descarga los datos históricos de precios de la acción especificada.\n",
        "- **`ticker`**: El símbolo de la acción que queremos analizar (AMZN en este caso).\n",
        "- **`start`**: La fecha de inicio para los datos históricos (1 de enero de 2020).\n",
        "- **`end`**: La fecha de finalización para los datos históricos (1 de enero de 2023).\n",
        "\n",
        "**Mostrar los Primeros Registros**\n",
        "\n",
        "```python\n",
        "# Mostrar los primeros registros\n",
        "print(data.head())\n",
        "```\n",
        "\n",
        "- **`data.head()`**: Muestra los primeros cinco registros del DataFrame `data`, proporcionando una vista rápida de la estructura de los datos descargados.\n",
        "\n",
        "**Graficar el Precio de Cierre Ajustado con Plotly**\n",
        "\n",
        "```python\n",
        "fig = go.Figure()\n",
        "```\n",
        "\n",
        "- **`go.Figure()`**: Crea una nueva figura en `plotly`.\n",
        "\n",
        "**Agregar una Trazado al Gráfico**\n",
        "\n",
        "```python\n",
        "fig.add_trace(go.Scatter(x=data.index, y=data['Adj Close'], mode='lines', name='Precio de Cierre Ajustado'))\n",
        "```\n",
        "\n",
        "- **`fig.add_trace`**: Agrega una traza al gráfico.\n",
        "  - **`go.Scatter`**: Crea una traza de dispersión (scatter plot), que en este caso se configura como una línea.\n",
        "  - **`x=data.index`**: El eje x está basado en el índice del DataFrame, que son las fechas.\n",
        "  - **`y=data['Adj Close']`**: El eje y está basado en la columna 'Adj Close' del DataFrame, que representa el precio de cierre ajustado.\n",
        "  - **`mode='lines'`**: Especifica que la traza debe ser una línea.\n",
        "  - **`name='Precio de Cierre Ajustado'`**: El nombre de la traza que aparecerá en la leyenda del gráfico.\n",
        "\n",
        "**Personalización y Mostrado del Gráfico**\n",
        "\n",
        "```python\n",
        "fig.update_layout(\n",
        "    title='Precio de Cierre Ajustado de Amazon (AMZN)',\n",
        "    xaxis_title='Fecha',\n",
        "    yaxis_title='Precio ($)',\n",
        "    legend_title='Ticker',\n",
        "    template='plotly_white'\n",
        ")\n",
        "```\n",
        "\n",
        "- **`fig.update_layout`**: Personaliza el diseño del gráfico.\n",
        "  - **`title`**: Establece el título del gráfico.\n",
        "  - **`xaxis_title`**: Título del eje x (Fecha).\n",
        "  - **`yaxis_title`**: Título del eje y (Precio en dólares).\n",
        "  - **`legend_title`**: Título de la leyenda.\n",
        "  - **`template='plotly_white'`**: Aplica el tema 'plotly_white' al gráfico para un fondo blanco limpio.\n",
        "\n",
        "```python\n",
        "fig.show()\n",
        "```\n",
        "\n",
        "- **`fig.show()`**: Muestra el gráfico interactivo en la salida del notebook o en una ventana del navegador.\n",
        "\n",
        "En resumen, este código descarga datos históricos del precio de las acciones de Amazon desde Yahoo Finance, los almacena en un DataFrame de `pandas`, y luego utiliza `plotly` para crear y mostrar un gráfico interactivo del precio de cierre ajustado a lo largo del tiempo. Este enfoque permite visualizar los datos de una manera más dinámica y atractiva en comparación con gráficos estáticos, facilitando la exploración y el análisis interactivo de los datos financieros."
      ],
      "metadata": {
        "id": "8btBigc1vYi6"
      }
    }
  ]
}